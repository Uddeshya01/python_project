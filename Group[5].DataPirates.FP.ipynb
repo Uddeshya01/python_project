{
 "cells": [
  {
   "cell_type": "markdown",
   "id": "053301fa",
   "metadata": {},
   "source": [
    "# Introduction\n"
   ]
  },
  {
   "cell_type": "markdown",
   "id": "51628ca4",
   "metadata": {},
   "source": [
    "We are performing our visualizations on Indian Premier League which is a men's T20 franchise cricket league of India. Our dataset contain ball by ball analysis of matches in 2020.\n"
   ]
  },
  {
   "cell_type": "markdown",
   "id": "32a569e9",
   "metadata": {},
   "source": [
    "Link to Dataset - https://www.kaggle.com/datasets/vora1011/ipl-2022-match-dataset"
   ]
  },
  {
   "cell_type": "markdown",
   "id": "b41c841d",
   "metadata": {},
   "source": [
    "Type of visualizations created by us are-\n",
    "1. Bar Charts\n",
    "2. Boxplots\n",
    "3. Line Plots\n",
    "4. Scatter Plots\n",
    "5. Histograms\n",
    "6. Pie Charts\n",
    "7. Heat Maps\n",
    "\n",
    "Columns of Dataset\n",
    "1. ID \n",
    "2. Innings\n",
    "3. Overs\n",
    "4. Ball_number\n",
    "5. Batter\n",
    "6. Bowler\n",
    "7. Non_Striker\n",
    "8. Batsman_Run\n",
    "9. Extras_Run\n",
    "10. Total_Run\n",
    "11. Non_Boundary\n",
    "12. Is_Wicket_Delivery\n",
    "13. Player_Out\n",
    "14. Batting_Team\n",
    "15. Date"
   ]
  },
  {
   "cell_type": "markdown",
   "id": "a4ba575a",
   "metadata": {},
   "source": [
    "# Importing Libraries"
   ]
  },
  {
   "cell_type": "code",
   "execution_count": 1,
   "id": "7d736a80",
   "metadata": {},
   "outputs": [],
   "source": [
    "import pandas as pd\n",
    "import numpy as np\n",
    "import matplotlib.pyplot as plt"
   ]
  },
  {
   "cell_type": "markdown",
   "id": "e24128f0",
   "metadata": {},
   "source": [
    "# Loading the dataset"
   ]
  },
  {
   "cell_type": "code",
   "execution_count": 2,
   "id": "63e809c7",
   "metadata": {},
   "outputs": [
    {
     "data": {
      "text/html": [
       "<div>\n",
       "<style scoped>\n",
       "    .dataframe tbody tr th:only-of-type {\n",
       "        vertical-align: middle;\n",
       "    }\n",
       "\n",
       "    .dataframe tbody tr th {\n",
       "        vertical-align: top;\n",
       "    }\n",
       "\n",
       "    .dataframe thead th {\n",
       "        text-align: right;\n",
       "    }\n",
       "</style>\n",
       "<table border=\"1\" class=\"dataframe\">\n",
       "  <thead>\n",
       "    <tr style=\"text-align: right;\">\n",
       "      <th></th>\n",
       "      <th>ID</th>\n",
       "      <th>innings</th>\n",
       "      <th>overs</th>\n",
       "      <th>ballnumber</th>\n",
       "      <th>batter</th>\n",
       "      <th>bowler</th>\n",
       "      <th>non-striker</th>\n",
       "      <th>batsman_run</th>\n",
       "      <th>extras_run</th>\n",
       "      <th>total_run</th>\n",
       "      <th>non_boundary</th>\n",
       "      <th>isWicketDelivery</th>\n",
       "      <th>player_out</th>\n",
       "      <th>BattingTeam</th>\n",
       "      <th>Date</th>\n",
       "    </tr>\n",
       "  </thead>\n",
       "  <tbody>\n",
       "    <tr>\n",
       "      <th>0</th>\n",
       "      <td>1312200</td>\n",
       "      <td>1.0</td>\n",
       "      <td>0</td>\n",
       "      <td>1.0</td>\n",
       "      <td>YBK Jaiswal</td>\n",
       "      <td>Mohammed Shami</td>\n",
       "      <td>JC Buttler</td>\n",
       "      <td>0</td>\n",
       "      <td>0.0</td>\n",
       "      <td>0.0</td>\n",
       "      <td>0.0</td>\n",
       "      <td>0</td>\n",
       "      <td>NaN</td>\n",
       "      <td>Rajasthan Royals</td>\n",
       "      <td>3/26/2022</td>\n",
       "    </tr>\n",
       "    <tr>\n",
       "      <th>1</th>\n",
       "      <td>1312200</td>\n",
       "      <td>1.0</td>\n",
       "      <td>0</td>\n",
       "      <td>2.0</td>\n",
       "      <td>YBK Jaiswal</td>\n",
       "      <td>Mohammed Shami</td>\n",
       "      <td>JC Buttler</td>\n",
       "      <td>0</td>\n",
       "      <td>1.0</td>\n",
       "      <td>1.0</td>\n",
       "      <td>0.0</td>\n",
       "      <td>0</td>\n",
       "      <td>NaN</td>\n",
       "      <td>Rajasthan Royals</td>\n",
       "      <td>3/26/2022</td>\n",
       "    </tr>\n",
       "    <tr>\n",
       "      <th>2</th>\n",
       "      <td>1312200</td>\n",
       "      <td>1.0</td>\n",
       "      <td>0</td>\n",
       "      <td>3.0</td>\n",
       "      <td>JC Buttler</td>\n",
       "      <td>Mohammed Shami</td>\n",
       "      <td>YBK Jaiswal</td>\n",
       "      <td>1</td>\n",
       "      <td>0.0</td>\n",
       "      <td>1.0</td>\n",
       "      <td>0.0</td>\n",
       "      <td>0</td>\n",
       "      <td>NaN</td>\n",
       "      <td>Rajasthan Royals</td>\n",
       "      <td>3/26/2022</td>\n",
       "    </tr>\n",
       "    <tr>\n",
       "      <th>3</th>\n",
       "      <td>1312200</td>\n",
       "      <td>1.0</td>\n",
       "      <td>0</td>\n",
       "      <td>4.0</td>\n",
       "      <td>YBK Jaiswal</td>\n",
       "      <td>Mohammed Shami</td>\n",
       "      <td>JC Buttler</td>\n",
       "      <td>0</td>\n",
       "      <td>0.0</td>\n",
       "      <td>0.0</td>\n",
       "      <td>0.0</td>\n",
       "      <td>0</td>\n",
       "      <td>NaN</td>\n",
       "      <td>Rajasthan Royals</td>\n",
       "      <td>3/26/2022</td>\n",
       "    </tr>\n",
       "    <tr>\n",
       "      <th>4</th>\n",
       "      <td>1312200</td>\n",
       "      <td>1.0</td>\n",
       "      <td>0</td>\n",
       "      <td>5.0</td>\n",
       "      <td>YBK Jaiswal</td>\n",
       "      <td>Mohammed Shami</td>\n",
       "      <td>JC Buttler</td>\n",
       "      <td>0</td>\n",
       "      <td>0.0</td>\n",
       "      <td>0.0</td>\n",
       "      <td>0.0</td>\n",
       "      <td>0</td>\n",
       "      <td>NaN</td>\n",
       "      <td>Rajasthan Royals</td>\n",
       "      <td>3/26/2022</td>\n",
       "    </tr>\n",
       "    <tr>\n",
       "      <th>...</th>\n",
       "      <td>...</td>\n",
       "      <td>...</td>\n",
       "      <td>...</td>\n",
       "      <td>...</td>\n",
       "      <td>...</td>\n",
       "      <td>...</td>\n",
       "      <td>...</td>\n",
       "      <td>...</td>\n",
       "      <td>...</td>\n",
       "      <td>...</td>\n",
       "      <td>...</td>\n",
       "      <td>...</td>\n",
       "      <td>...</td>\n",
       "      <td>...</td>\n",
       "      <td>...</td>\n",
       "    </tr>\n",
       "    <tr>\n",
       "      <th>17907</th>\n",
       "      <td>1304047</td>\n",
       "      <td>2.0</td>\n",
       "      <td>17</td>\n",
       "      <td>5.0</td>\n",
       "      <td>SS Iyer</td>\n",
       "      <td>DJ Bravo</td>\n",
       "      <td>SP Jackson</td>\n",
       "      <td>1</td>\n",
       "      <td>0.0</td>\n",
       "      <td>1.0</td>\n",
       "      <td>0.0</td>\n",
       "      <td>0</td>\n",
       "      <td>NaN</td>\n",
       "      <td>Kolkata Knight Riders</td>\n",
       "      <td>24/04/202</td>\n",
       "    </tr>\n",
       "    <tr>\n",
       "      <th>17908</th>\n",
       "      <td>1304047</td>\n",
       "      <td>2.0</td>\n",
       "      <td>17</td>\n",
       "      <td>6.0</td>\n",
       "      <td>SP Jackson</td>\n",
       "      <td>DJ Bravo</td>\n",
       "      <td>SS Iyer</td>\n",
       "      <td>1</td>\n",
       "      <td>0.0</td>\n",
       "      <td>1.0</td>\n",
       "      <td>0.0</td>\n",
       "      <td>0</td>\n",
       "      <td>NaN</td>\n",
       "      <td>Kolkata Knight Riders</td>\n",
       "      <td>24/04/202</td>\n",
       "    </tr>\n",
       "    <tr>\n",
       "      <th>17909</th>\n",
       "      <td>1304047</td>\n",
       "      <td>2.0</td>\n",
       "      <td>18</td>\n",
       "      <td>1.0</td>\n",
       "      <td>SP Jackson</td>\n",
       "      <td>AF Milne</td>\n",
       "      <td>SS Iyer</td>\n",
       "      <td>1</td>\n",
       "      <td>0.0</td>\n",
       "      <td>1.0</td>\n",
       "      <td>0.0</td>\n",
       "      <td>0</td>\n",
       "      <td>NaN</td>\n",
       "      <td>Kolkata Knight Riders</td>\n",
       "      <td>24/04/202</td>\n",
       "    </tr>\n",
       "    <tr>\n",
       "      <th>17910</th>\n",
       "      <td>1304047</td>\n",
       "      <td>2.0</td>\n",
       "      <td>18</td>\n",
       "      <td>2.0</td>\n",
       "      <td>SS Iyer</td>\n",
       "      <td>AF Milne</td>\n",
       "      <td>SP Jackson</td>\n",
       "      <td>2</td>\n",
       "      <td>0.0</td>\n",
       "      <td>2.0</td>\n",
       "      <td>0.0</td>\n",
       "      <td>0</td>\n",
       "      <td>NaN</td>\n",
       "      <td>Kolkata Knight Riders</td>\n",
       "      <td>24/04/202</td>\n",
       "    </tr>\n",
       "    <tr>\n",
       "      <th>17911</th>\n",
       "      <td>1304047</td>\n",
       "      <td>2.0</td>\n",
       "      <td>18</td>\n",
       "      <td>3.0</td>\n",
       "      <td>SS Iyer</td>\n",
       "      <td>AF Milne</td>\n",
       "      <td>SP Jackson</td>\n",
       "      <td>4</td>\n",
       "      <td>0.0</td>\n",
       "      <td>4.0</td>\n",
       "      <td>0.0</td>\n",
       "      <td>0</td>\n",
       "      <td>NaN</td>\n",
       "      <td>Kolkata Knight Riders</td>\n",
       "      <td>24/04/202</td>\n",
       "    </tr>\n",
       "  </tbody>\n",
       "</table>\n",
       "<p>17912 rows × 15 columns</p>\n",
       "</div>"
      ],
      "text/plain": [
       "            ID  innings  overs  ballnumber       batter          bowler  \\\n",
       "0      1312200      1.0      0         1.0  YBK Jaiswal  Mohammed Shami   \n",
       "1      1312200      1.0      0         2.0  YBK Jaiswal  Mohammed Shami   \n",
       "2      1312200      1.0      0         3.0   JC Buttler  Mohammed Shami   \n",
       "3      1312200      1.0      0         4.0  YBK Jaiswal  Mohammed Shami   \n",
       "4      1312200      1.0      0         5.0  YBK Jaiswal  Mohammed Shami   \n",
       "...        ...      ...    ...         ...          ...             ...   \n",
       "17907  1304047      2.0     17         5.0      SS Iyer        DJ Bravo   \n",
       "17908  1304047      2.0     17         6.0   SP Jackson        DJ Bravo   \n",
       "17909  1304047      2.0     18         1.0   SP Jackson        AF Milne   \n",
       "17910  1304047      2.0     18         2.0      SS Iyer        AF Milne   \n",
       "17911  1304047      2.0     18         3.0      SS Iyer        AF Milne   \n",
       "\n",
       "       non-striker  batsman_run  extras_run  total_run  non_boundary  \\\n",
       "0       JC Buttler            0         0.0        0.0           0.0   \n",
       "1       JC Buttler            0         1.0        1.0           0.0   \n",
       "2      YBK Jaiswal            1         0.0        1.0           0.0   \n",
       "3       JC Buttler            0         0.0        0.0           0.0   \n",
       "4       JC Buttler            0         0.0        0.0           0.0   \n",
       "...            ...          ...         ...        ...           ...   \n",
       "17907   SP Jackson            1         0.0        1.0           0.0   \n",
       "17908      SS Iyer            1         0.0        1.0           0.0   \n",
       "17909      SS Iyer            1         0.0        1.0           0.0   \n",
       "17910   SP Jackson            2         0.0        2.0           0.0   \n",
       "17911   SP Jackson            4         0.0        4.0           0.0   \n",
       "\n",
       "       isWicketDelivery player_out            BattingTeam       Date  \n",
       "0                     0        NaN       Rajasthan Royals  3/26/2022  \n",
       "1                     0        NaN       Rajasthan Royals  3/26/2022  \n",
       "2                     0        NaN       Rajasthan Royals  3/26/2022  \n",
       "3                     0        NaN       Rajasthan Royals  3/26/2022  \n",
       "4                     0        NaN       Rajasthan Royals  3/26/2022  \n",
       "...                 ...        ...                    ...        ...  \n",
       "17907                 0        NaN  Kolkata Knight Riders  24/04/202  \n",
       "17908                 0        NaN  Kolkata Knight Riders  24/04/202  \n",
       "17909                 0        NaN  Kolkata Knight Riders  24/04/202  \n",
       "17910                 0        NaN  Kolkata Knight Riders  24/04/202  \n",
       "17911                 0        NaN  Kolkata Knight Riders  24/04/202  \n",
       "\n",
       "[17912 rows x 15 columns]"
      ]
     },
     "execution_count": 2,
     "metadata": {},
     "output_type": "execute_result"
    }
   ],
   "source": [
    "ipl_data = pd.read_csv('ipl.csv')\n",
    "ipl_data"
   ]
  },
  {
   "cell_type": "code",
   "execution_count": 3,
   "id": "cb49fff1",
   "metadata": {},
   "outputs": [
    {
     "data": {
      "text/plain": [
       "Index(['ID', 'innings', 'overs', 'ballnumber', 'batter', 'bowler',\n",
       "       'non-striker', 'batsman_run', 'extras_run', 'total_run', 'non_boundary',\n",
       "       'isWicketDelivery', 'player_out', 'BattingTeam', 'Date'],\n",
       "      dtype='object')"
      ]
     },
     "execution_count": 3,
     "metadata": {},
     "output_type": "execute_result"
    }
   ],
   "source": [
    "ipl_data.columns"
   ]
  },
  {
   "cell_type": "markdown",
   "id": "ea0b8229",
   "metadata": {},
   "source": [
    "# Renaming the columns"
   ]
  },
  {
   "cell_type": "code",
   "execution_count": 4,
   "id": "dbc139ab",
   "metadata": {},
   "outputs": [],
   "source": [
    "ipl_data.rename(\n",
    "    columns={'innings':'Innings','overs':'Overs', 'ballnumber':'Ball_number', 'batter':'Batter', 'bowler':'Bowler',\n",
    "       'non-striker': 'Non_Striker', 'batsman_run':'Batsman_Run', 'extras_run': 'Extras_Run', 'total_run':'Total_Run', 'non_boundary':'Non_Boundary',\n",
    "       'isWicketDelivery':'Is_Wicket_Delivery', 'player_out':'Player_Out', 'BattingTeam':'Batting_Team'},\n",
    "    inplace=True)"
   ]
  },
  {
   "cell_type": "code",
   "execution_count": 5,
   "id": "d2302946",
   "metadata": {},
   "outputs": [
    {
     "data": {
      "text/html": [
       "<div>\n",
       "<style scoped>\n",
       "    .dataframe tbody tr th:only-of-type {\n",
       "        vertical-align: middle;\n",
       "    }\n",
       "\n",
       "    .dataframe tbody tr th {\n",
       "        vertical-align: top;\n",
       "    }\n",
       "\n",
       "    .dataframe thead th {\n",
       "        text-align: right;\n",
       "    }\n",
       "</style>\n",
       "<table border=\"1\" class=\"dataframe\">\n",
       "  <thead>\n",
       "    <tr style=\"text-align: right;\">\n",
       "      <th></th>\n",
       "      <th>ID</th>\n",
       "      <th>Innings</th>\n",
       "      <th>Overs</th>\n",
       "      <th>Ball_number</th>\n",
       "      <th>Batter</th>\n",
       "      <th>Bowler</th>\n",
       "      <th>Non_Striker</th>\n",
       "      <th>Batsman_Run</th>\n",
       "      <th>Extras_Run</th>\n",
       "      <th>Total_Run</th>\n",
       "      <th>Non_Boundary</th>\n",
       "      <th>Is_Wicket_Delivery</th>\n",
       "      <th>Player_Out</th>\n",
       "      <th>Batting_Team</th>\n",
       "      <th>Date</th>\n",
       "    </tr>\n",
       "  </thead>\n",
       "  <tbody>\n",
       "    <tr>\n",
       "      <th>0</th>\n",
       "      <td>1312200</td>\n",
       "      <td>1.0</td>\n",
       "      <td>0</td>\n",
       "      <td>1.0</td>\n",
       "      <td>YBK Jaiswal</td>\n",
       "      <td>Mohammed Shami</td>\n",
       "      <td>JC Buttler</td>\n",
       "      <td>0</td>\n",
       "      <td>0.0</td>\n",
       "      <td>0.0</td>\n",
       "      <td>0.0</td>\n",
       "      <td>0</td>\n",
       "      <td>NaN</td>\n",
       "      <td>Rajasthan Royals</td>\n",
       "      <td>3/26/2022</td>\n",
       "    </tr>\n",
       "    <tr>\n",
       "      <th>1</th>\n",
       "      <td>1312200</td>\n",
       "      <td>1.0</td>\n",
       "      <td>0</td>\n",
       "      <td>2.0</td>\n",
       "      <td>YBK Jaiswal</td>\n",
       "      <td>Mohammed Shami</td>\n",
       "      <td>JC Buttler</td>\n",
       "      <td>0</td>\n",
       "      <td>1.0</td>\n",
       "      <td>1.0</td>\n",
       "      <td>0.0</td>\n",
       "      <td>0</td>\n",
       "      <td>NaN</td>\n",
       "      <td>Rajasthan Royals</td>\n",
       "      <td>3/26/2022</td>\n",
       "    </tr>\n",
       "    <tr>\n",
       "      <th>2</th>\n",
       "      <td>1312200</td>\n",
       "      <td>1.0</td>\n",
       "      <td>0</td>\n",
       "      <td>3.0</td>\n",
       "      <td>JC Buttler</td>\n",
       "      <td>Mohammed Shami</td>\n",
       "      <td>YBK Jaiswal</td>\n",
       "      <td>1</td>\n",
       "      <td>0.0</td>\n",
       "      <td>1.0</td>\n",
       "      <td>0.0</td>\n",
       "      <td>0</td>\n",
       "      <td>NaN</td>\n",
       "      <td>Rajasthan Royals</td>\n",
       "      <td>3/26/2022</td>\n",
       "    </tr>\n",
       "    <tr>\n",
       "      <th>3</th>\n",
       "      <td>1312200</td>\n",
       "      <td>1.0</td>\n",
       "      <td>0</td>\n",
       "      <td>4.0</td>\n",
       "      <td>YBK Jaiswal</td>\n",
       "      <td>Mohammed Shami</td>\n",
       "      <td>JC Buttler</td>\n",
       "      <td>0</td>\n",
       "      <td>0.0</td>\n",
       "      <td>0.0</td>\n",
       "      <td>0.0</td>\n",
       "      <td>0</td>\n",
       "      <td>NaN</td>\n",
       "      <td>Rajasthan Royals</td>\n",
       "      <td>3/26/2022</td>\n",
       "    </tr>\n",
       "    <tr>\n",
       "      <th>4</th>\n",
       "      <td>1312200</td>\n",
       "      <td>1.0</td>\n",
       "      <td>0</td>\n",
       "      <td>5.0</td>\n",
       "      <td>YBK Jaiswal</td>\n",
       "      <td>Mohammed Shami</td>\n",
       "      <td>JC Buttler</td>\n",
       "      <td>0</td>\n",
       "      <td>0.0</td>\n",
       "      <td>0.0</td>\n",
       "      <td>0.0</td>\n",
       "      <td>0</td>\n",
       "      <td>NaN</td>\n",
       "      <td>Rajasthan Royals</td>\n",
       "      <td>3/26/2022</td>\n",
       "    </tr>\n",
       "  </tbody>\n",
       "</table>\n",
       "</div>"
      ],
      "text/plain": [
       "        ID  Innings  Overs  Ball_number       Batter          Bowler  \\\n",
       "0  1312200      1.0      0          1.0  YBK Jaiswal  Mohammed Shami   \n",
       "1  1312200      1.0      0          2.0  YBK Jaiswal  Mohammed Shami   \n",
       "2  1312200      1.0      0          3.0   JC Buttler  Mohammed Shami   \n",
       "3  1312200      1.0      0          4.0  YBK Jaiswal  Mohammed Shami   \n",
       "4  1312200      1.0      0          5.0  YBK Jaiswal  Mohammed Shami   \n",
       "\n",
       "   Non_Striker  Batsman_Run  Extras_Run  Total_Run  Non_Boundary  \\\n",
       "0   JC Buttler            0         0.0        0.0           0.0   \n",
       "1   JC Buttler            0         1.0        1.0           0.0   \n",
       "2  YBK Jaiswal            1         0.0        1.0           0.0   \n",
       "3   JC Buttler            0         0.0        0.0           0.0   \n",
       "4   JC Buttler            0         0.0        0.0           0.0   \n",
       "\n",
       "   Is_Wicket_Delivery Player_Out      Batting_Team       Date  \n",
       "0                   0        NaN  Rajasthan Royals  3/26/2022  \n",
       "1                   0        NaN  Rajasthan Royals  3/26/2022  \n",
       "2                   0        NaN  Rajasthan Royals  3/26/2022  \n",
       "3                   0        NaN  Rajasthan Royals  3/26/2022  \n",
       "4                   0        NaN  Rajasthan Royals  3/26/2022  "
      ]
     },
     "execution_count": 5,
     "metadata": {},
     "output_type": "execute_result"
    }
   ],
   "source": [
    "ipl_data.head()"
   ]
  },
  {
   "cell_type": "code",
   "execution_count": 6,
   "id": "0366c267",
   "metadata": {},
   "outputs": [
    {
     "data": {
      "text/html": [
       "<div>\n",
       "<style scoped>\n",
       "    .dataframe tbody tr th:only-of-type {\n",
       "        vertical-align: middle;\n",
       "    }\n",
       "\n",
       "    .dataframe tbody tr th {\n",
       "        vertical-align: top;\n",
       "    }\n",
       "\n",
       "    .dataframe thead th {\n",
       "        text-align: right;\n",
       "    }\n",
       "</style>\n",
       "<table border=\"1\" class=\"dataframe\">\n",
       "  <thead>\n",
       "    <tr style=\"text-align: right;\">\n",
       "      <th></th>\n",
       "      <th>ID</th>\n",
       "      <th>Innings</th>\n",
       "      <th>Overs</th>\n",
       "      <th>Ball_number</th>\n",
       "      <th>Batter</th>\n",
       "      <th>Bowler</th>\n",
       "      <th>Non_Striker</th>\n",
       "      <th>Batsman_Run</th>\n",
       "      <th>Extras_Run</th>\n",
       "      <th>Total_Run</th>\n",
       "      <th>Non_Boundary</th>\n",
       "      <th>Is_Wicket_Delivery</th>\n",
       "      <th>Player_Out</th>\n",
       "      <th>Batting_Team</th>\n",
       "      <th>Date</th>\n",
       "    </tr>\n",
       "  </thead>\n",
       "  <tbody>\n",
       "    <tr>\n",
       "      <th>17907</th>\n",
       "      <td>1304047</td>\n",
       "      <td>2.0</td>\n",
       "      <td>17</td>\n",
       "      <td>5.0</td>\n",
       "      <td>SS Iyer</td>\n",
       "      <td>DJ Bravo</td>\n",
       "      <td>SP Jackson</td>\n",
       "      <td>1</td>\n",
       "      <td>0.0</td>\n",
       "      <td>1.0</td>\n",
       "      <td>0.0</td>\n",
       "      <td>0</td>\n",
       "      <td>NaN</td>\n",
       "      <td>Kolkata Knight Riders</td>\n",
       "      <td>24/04/202</td>\n",
       "    </tr>\n",
       "    <tr>\n",
       "      <th>17908</th>\n",
       "      <td>1304047</td>\n",
       "      <td>2.0</td>\n",
       "      <td>17</td>\n",
       "      <td>6.0</td>\n",
       "      <td>SP Jackson</td>\n",
       "      <td>DJ Bravo</td>\n",
       "      <td>SS Iyer</td>\n",
       "      <td>1</td>\n",
       "      <td>0.0</td>\n",
       "      <td>1.0</td>\n",
       "      <td>0.0</td>\n",
       "      <td>0</td>\n",
       "      <td>NaN</td>\n",
       "      <td>Kolkata Knight Riders</td>\n",
       "      <td>24/04/202</td>\n",
       "    </tr>\n",
       "    <tr>\n",
       "      <th>17909</th>\n",
       "      <td>1304047</td>\n",
       "      <td>2.0</td>\n",
       "      <td>18</td>\n",
       "      <td>1.0</td>\n",
       "      <td>SP Jackson</td>\n",
       "      <td>AF Milne</td>\n",
       "      <td>SS Iyer</td>\n",
       "      <td>1</td>\n",
       "      <td>0.0</td>\n",
       "      <td>1.0</td>\n",
       "      <td>0.0</td>\n",
       "      <td>0</td>\n",
       "      <td>NaN</td>\n",
       "      <td>Kolkata Knight Riders</td>\n",
       "      <td>24/04/202</td>\n",
       "    </tr>\n",
       "    <tr>\n",
       "      <th>17910</th>\n",
       "      <td>1304047</td>\n",
       "      <td>2.0</td>\n",
       "      <td>18</td>\n",
       "      <td>2.0</td>\n",
       "      <td>SS Iyer</td>\n",
       "      <td>AF Milne</td>\n",
       "      <td>SP Jackson</td>\n",
       "      <td>2</td>\n",
       "      <td>0.0</td>\n",
       "      <td>2.0</td>\n",
       "      <td>0.0</td>\n",
       "      <td>0</td>\n",
       "      <td>NaN</td>\n",
       "      <td>Kolkata Knight Riders</td>\n",
       "      <td>24/04/202</td>\n",
       "    </tr>\n",
       "    <tr>\n",
       "      <th>17911</th>\n",
       "      <td>1304047</td>\n",
       "      <td>2.0</td>\n",
       "      <td>18</td>\n",
       "      <td>3.0</td>\n",
       "      <td>SS Iyer</td>\n",
       "      <td>AF Milne</td>\n",
       "      <td>SP Jackson</td>\n",
       "      <td>4</td>\n",
       "      <td>0.0</td>\n",
       "      <td>4.0</td>\n",
       "      <td>0.0</td>\n",
       "      <td>0</td>\n",
       "      <td>NaN</td>\n",
       "      <td>Kolkata Knight Riders</td>\n",
       "      <td>24/04/202</td>\n",
       "    </tr>\n",
       "  </tbody>\n",
       "</table>\n",
       "</div>"
      ],
      "text/plain": [
       "            ID  Innings  Overs  Ball_number      Batter    Bowler Non_Striker  \\\n",
       "17907  1304047      2.0     17          5.0     SS Iyer  DJ Bravo  SP Jackson   \n",
       "17908  1304047      2.0     17          6.0  SP Jackson  DJ Bravo     SS Iyer   \n",
       "17909  1304047      2.0     18          1.0  SP Jackson  AF Milne     SS Iyer   \n",
       "17910  1304047      2.0     18          2.0     SS Iyer  AF Milne  SP Jackson   \n",
       "17911  1304047      2.0     18          3.0     SS Iyer  AF Milne  SP Jackson   \n",
       "\n",
       "       Batsman_Run  Extras_Run  Total_Run  Non_Boundary  Is_Wicket_Delivery  \\\n",
       "17907            1         0.0        1.0           0.0                   0   \n",
       "17908            1         0.0        1.0           0.0                   0   \n",
       "17909            1         0.0        1.0           0.0                   0   \n",
       "17910            2         0.0        2.0           0.0                   0   \n",
       "17911            4         0.0        4.0           0.0                   0   \n",
       "\n",
       "      Player_Out           Batting_Team       Date  \n",
       "17907        NaN  Kolkata Knight Riders  24/04/202  \n",
       "17908        NaN  Kolkata Knight Riders  24/04/202  \n",
       "17909        NaN  Kolkata Knight Riders  24/04/202  \n",
       "17910        NaN  Kolkata Knight Riders  24/04/202  \n",
       "17911        NaN  Kolkata Knight Riders  24/04/202  "
      ]
     },
     "execution_count": 6,
     "metadata": {},
     "output_type": "execute_result"
    }
   ],
   "source": [
    "ipl_data.tail()"
   ]
  },
  {
   "cell_type": "code",
   "execution_count": 7,
   "id": "d69ce1bd",
   "metadata": {},
   "outputs": [
    {
     "name": "stdout",
     "output_type": "stream",
     "text": [
      "<class 'pandas.core.frame.DataFrame'>\n",
      "RangeIndex: 17912 entries, 0 to 17911\n",
      "Data columns (total 15 columns):\n",
      " #   Column              Non-Null Count  Dtype  \n",
      "---  ------              --------------  -----  \n",
      " 0   ID                  17912 non-null  int64  \n",
      " 1   Innings             17777 non-null  float64\n",
      " 2   Overs               17912 non-null  int64  \n",
      " 3   Ball_number         17891 non-null  float64\n",
      " 4   Batter              17912 non-null  object \n",
      " 5   Bowler              17912 non-null  object \n",
      " 6   Non_Striker         17912 non-null  object \n",
      " 7   Batsman_Run         17912 non-null  int64  \n",
      " 8   Extras_Run          17904 non-null  float64\n",
      " 9   Total_Run           17888 non-null  float64\n",
      " 10  Non_Boundary        17910 non-null  float64\n",
      " 11  Is_Wicket_Delivery  17912 non-null  int64  \n",
      " 12  Player_Out          912 non-null    object \n",
      " 13  Batting_Team        17907 non-null  object \n",
      " 14  Date                16582 non-null  object \n",
      "dtypes: float64(5), int64(4), object(6)\n",
      "memory usage: 2.0+ MB\n"
     ]
    }
   ],
   "source": [
    "ipl_data.info()"
   ]
  },
  {
   "cell_type": "markdown",
   "id": "983328ef",
   "metadata": {},
   "source": [
    "# Number of null values in columns"
   ]
  },
  {
   "cell_type": "code",
   "execution_count": 8,
   "id": "b1eb003c",
   "metadata": {},
   "outputs": [
    {
     "data": {
      "text/plain": [
       "ID                        0\n",
       "Innings                 135\n",
       "Overs                     0\n",
       "Ball_number              21\n",
       "Batter                    0\n",
       "Bowler                    0\n",
       "Non_Striker               0\n",
       "Batsman_Run               0\n",
       "Extras_Run                8\n",
       "Total_Run                24\n",
       "Non_Boundary              2\n",
       "Is_Wicket_Delivery        0\n",
       "Player_Out            17000\n",
       "Batting_Team              5\n",
       "Date                   1330\n",
       "dtype: int64"
      ]
     },
     "execution_count": 8,
     "metadata": {},
     "output_type": "execute_result"
    }
   ],
   "source": [
    "ipl_data.isna().sum()"
   ]
  },
  {
   "cell_type": "code",
   "execution_count": 9,
   "id": "f6594f10",
   "metadata": {},
   "outputs": [
    {
     "data": {
      "text/plain": [
       "18525"
      ]
     },
     "execution_count": 9,
     "metadata": {},
     "output_type": "execute_result"
    }
   ],
   "source": [
    "# total number of missing values in dataframe\n",
    "ipl_data.isna().sum().sum()"
   ]
  },
  {
   "cell_type": "code",
   "execution_count": 10,
   "id": "e7db4f79",
   "metadata": {},
   "outputs": [
    {
     "data": {
      "text/plain": [
       "6.894819115676641"
      ]
     },
     "execution_count": 10,
     "metadata": {},
     "output_type": "execute_result"
    }
   ],
   "source": [
    "# percentage of missing values\n",
    "ipl_data.isnull().sum().sum()/ipl_data.size * 100"
   ]
  },
  {
   "cell_type": "markdown",
   "id": "60d8986f",
   "metadata": {},
   "source": [
    "# Handling the null values"
   ]
  },
  {
   "cell_type": "code",
   "execution_count": 11,
   "id": "5dec0f90",
   "metadata": {},
   "outputs": [],
   "source": [
    "ipl_data['Innings'] = ipl_data.groupby('Batting_Team')['Innings'].transform(lambda x: x.fillna(x.mean()))\n",
    "ipl_data['Extras_Run'] = ipl_data.groupby('ID')['Extras_Run'].transform(lambda x: x.fillna(x.mean()))\n",
    "ipl_data['Ball_number'] = ipl_data.groupby('ID')['Ball_number'].transform(lambda x: x.fillna(x.mean()))\n",
    "ipl_data['Innings'] = ipl_data['Innings'].fillna(0)\n",
    "ipl_data['Batting_Team'] = ipl_data['Batting_Team'].fillna(0)\n",
    "ipl_data['Date'] = ipl_data['Date'].fillna(0)\n",
    "ipl_data['Player_Out'] = ipl_data['Player_Out'].fillna(0)\n",
    "ipl_data['Non_Boundary'] = ipl_data['Non_Boundary'].fillna(0)\n",
    "ipl_data['Total_Run'] = ipl_data['Total_Run'].fillna(0)"
   ]
  },
  {
   "cell_type": "code",
   "execution_count": 12,
   "id": "10cb400f",
   "metadata": {},
   "outputs": [
    {
     "data": {
      "text/plain": [
       "ID                    0\n",
       "Innings               0\n",
       "Overs                 0\n",
       "Ball_number           0\n",
       "Batter                0\n",
       "Bowler                0\n",
       "Non_Striker           0\n",
       "Batsman_Run           0\n",
       "Extras_Run            0\n",
       "Total_Run             0\n",
       "Non_Boundary          0\n",
       "Is_Wicket_Delivery    0\n",
       "Player_Out            0\n",
       "Batting_Team          0\n",
       "Date                  0\n",
       "dtype: int64"
      ]
     },
     "execution_count": 12,
     "metadata": {},
     "output_type": "execute_result"
    }
   ],
   "source": [
    "ipl_data.isna().sum()"
   ]
  },
  {
   "cell_type": "code",
   "execution_count": 13,
   "id": "bf58f34d",
   "metadata": {},
   "outputs": [
    {
     "data": {
      "text/plain": [
       "268680"
      ]
     },
     "execution_count": 13,
     "metadata": {},
     "output_type": "execute_result"
    }
   ],
   "source": [
    "# total data frame size\n",
    "ipl_data.size"
   ]
  },
  {
   "cell_type": "code",
   "execution_count": 14,
   "id": "d10b32f5",
   "metadata": {},
   "outputs": [
    {
     "data": {
      "text/plain": [
       "(17912, 15)"
      ]
     },
     "execution_count": 14,
     "metadata": {},
     "output_type": "execute_result"
    }
   ],
   "source": [
    "# Number of rows and columns in data frame\n",
    "ipl_data.shape"
   ]
  },
  {
   "cell_type": "code",
   "execution_count": 15,
   "id": "6747c5a2",
   "metadata": {},
   "outputs": [
    {
     "name": "stdout",
     "output_type": "stream",
     "text": [
      "JC Buttler\n"
     ]
    }
   ],
   "source": [
    "# aggregate measures across whole columns in data set\n",
    "print(ipl_data['Batter'].mode()[0])"
   ]
  },
  {
   "cell_type": "markdown",
   "id": "8b999eb7",
   "metadata": {},
   "source": [
    "# Batsman and their total runs in whole league\n"
   ]
  },
  {
   "cell_type": "code",
   "execution_count": 16,
   "id": "c0232acb",
   "metadata": {},
   "outputs": [
    {
     "name": "stdout",
     "output_type": "stream",
     "text": [
      "Batter\n",
      "A Badoni             173.0\n",
      "A Manohar            112.0\n",
      "A Nortje               2.0\n",
      "A Tomar                0.0\n",
      "AD Russell           349.0\n",
      "                     ...  \n",
      "WP Saha              335.0\n",
      "Washington Sundar    113.0\n",
      "YBK Jaiswal          272.0\n",
      "YS Chahal              5.0\n",
      "Yash Dayal             0.0\n",
      "Name: Total_Run, Length: 174, dtype: float64\n"
     ]
    }
   ],
   "source": [
    "print(ipl_data.groupby('Batter')['Total_Run'].sum())"
   ]
  },
  {
   "cell_type": "markdown",
   "id": "eeebdafc",
   "metadata": {},
   "source": [
    "# Different teams in IPL"
   ]
  },
  {
   "cell_type": "code",
   "execution_count": 17,
   "id": "49dcca9c",
   "metadata": {},
   "outputs": [
    {
     "data": {
      "text/plain": [
       "array(['Rajasthan Royals', 0, 'Gujarat Titans',\n",
       "       'Royal Challengers Bangalore', 'Lucknow Super Giants',\n",
       "       'Sunrisers Hyderabad', 'Punjab Kings', 'Delhi Capitals',\n",
       "       'Mumbai Indians', 'Chennai Super Kings', 'Kolkata Knight Riders'],\n",
       "      dtype=object)"
      ]
     },
     "execution_count": 17,
     "metadata": {},
     "output_type": "execute_result"
    }
   ],
   "source": [
    "ipl_data['Batting_Team'].unique()"
   ]
  },
  {
   "cell_type": "markdown",
   "id": "e48a8f9a",
   "metadata": {},
   "source": [
    "# Total match played"
   ]
  },
  {
   "cell_type": "code",
   "execution_count": 18,
   "id": "515eb011",
   "metadata": {},
   "outputs": [
    {
     "data": {
      "text/plain": [
       "74"
      ]
     },
     "execution_count": 18,
     "metadata": {},
     "output_type": "execute_result"
    }
   ],
   "source": [
    "ipl_data['ID'].nunique()"
   ]
  },
  {
   "cell_type": "code",
   "execution_count": 19,
   "id": "e95c18a9",
   "metadata": {},
   "outputs": [
    {
     "data": {
      "text/html": [
       "<div>\n",
       "<style scoped>\n",
       "    .dataframe tbody tr th:only-of-type {\n",
       "        vertical-align: middle;\n",
       "    }\n",
       "\n",
       "    .dataframe tbody tr th {\n",
       "        vertical-align: top;\n",
       "    }\n",
       "\n",
       "    .dataframe thead th {\n",
       "        text-align: right;\n",
       "    }\n",
       "</style>\n",
       "<table border=\"1\" class=\"dataframe\">\n",
       "  <thead>\n",
       "    <tr style=\"text-align: right;\">\n",
       "      <th></th>\n",
       "      <th>ID</th>\n",
       "      <th>Innings</th>\n",
       "      <th>Overs</th>\n",
       "      <th>Ball_number</th>\n",
       "      <th>Batter</th>\n",
       "      <th>Bowler</th>\n",
       "      <th>Non_Striker</th>\n",
       "      <th>Batsman_Run</th>\n",
       "      <th>Extras_Run</th>\n",
       "      <th>Total_Run</th>\n",
       "      <th>Non_Boundary</th>\n",
       "      <th>Is_Wicket_Delivery</th>\n",
       "      <th>Player_Out</th>\n",
       "      <th>Batting_Team</th>\n",
       "      <th>Date</th>\n",
       "    </tr>\n",
       "  </thead>\n",
       "  <tbody>\n",
       "    <tr>\n",
       "      <th>0</th>\n",
       "      <td>1312200</td>\n",
       "      <td>1.0</td>\n",
       "      <td>0</td>\n",
       "      <td>1.0</td>\n",
       "      <td>YBK Jaiswal</td>\n",
       "      <td>Mohammed Shami</td>\n",
       "      <td>JC Buttler</td>\n",
       "      <td>0</td>\n",
       "      <td>0.0</td>\n",
       "      <td>0.0</td>\n",
       "      <td>0.0</td>\n",
       "      <td>0</td>\n",
       "      <td>0</td>\n",
       "      <td>Rajasthan Royals</td>\n",
       "      <td>3/26/2022</td>\n",
       "    </tr>\n",
       "    <tr>\n",
       "      <th>1</th>\n",
       "      <td>1312200</td>\n",
       "      <td>1.0</td>\n",
       "      <td>0</td>\n",
       "      <td>2.0</td>\n",
       "      <td>YBK Jaiswal</td>\n",
       "      <td>Mohammed Shami</td>\n",
       "      <td>JC Buttler</td>\n",
       "      <td>0</td>\n",
       "      <td>1.0</td>\n",
       "      <td>1.0</td>\n",
       "      <td>0.0</td>\n",
       "      <td>0</td>\n",
       "      <td>0</td>\n",
       "      <td>Rajasthan Royals</td>\n",
       "      <td>3/26/2022</td>\n",
       "    </tr>\n",
       "    <tr>\n",
       "      <th>2</th>\n",
       "      <td>1312200</td>\n",
       "      <td>1.0</td>\n",
       "      <td>0</td>\n",
       "      <td>3.0</td>\n",
       "      <td>JC Buttler</td>\n",
       "      <td>Mohammed Shami</td>\n",
       "      <td>YBK Jaiswal</td>\n",
       "      <td>1</td>\n",
       "      <td>0.0</td>\n",
       "      <td>1.0</td>\n",
       "      <td>0.0</td>\n",
       "      <td>0</td>\n",
       "      <td>0</td>\n",
       "      <td>Rajasthan Royals</td>\n",
       "      <td>3/26/2022</td>\n",
       "    </tr>\n",
       "    <tr>\n",
       "      <th>3</th>\n",
       "      <td>1312200</td>\n",
       "      <td>1.0</td>\n",
       "      <td>0</td>\n",
       "      <td>4.0</td>\n",
       "      <td>YBK Jaiswal</td>\n",
       "      <td>Mohammed Shami</td>\n",
       "      <td>JC Buttler</td>\n",
       "      <td>0</td>\n",
       "      <td>0.0</td>\n",
       "      <td>0.0</td>\n",
       "      <td>0.0</td>\n",
       "      <td>0</td>\n",
       "      <td>0</td>\n",
       "      <td>Rajasthan Royals</td>\n",
       "      <td>3/26/2022</td>\n",
       "    </tr>\n",
       "    <tr>\n",
       "      <th>4</th>\n",
       "      <td>1312200</td>\n",
       "      <td>1.0</td>\n",
       "      <td>0</td>\n",
       "      <td>5.0</td>\n",
       "      <td>YBK Jaiswal</td>\n",
       "      <td>Mohammed Shami</td>\n",
       "      <td>JC Buttler</td>\n",
       "      <td>0</td>\n",
       "      <td>0.0</td>\n",
       "      <td>0.0</td>\n",
       "      <td>0.0</td>\n",
       "      <td>0</td>\n",
       "      <td>0</td>\n",
       "      <td>Rajasthan Royals</td>\n",
       "      <td>3/26/2022</td>\n",
       "    </tr>\n",
       "    <tr>\n",
       "      <th>...</th>\n",
       "      <td>...</td>\n",
       "      <td>...</td>\n",
       "      <td>...</td>\n",
       "      <td>...</td>\n",
       "      <td>...</td>\n",
       "      <td>...</td>\n",
       "      <td>...</td>\n",
       "      <td>...</td>\n",
       "      <td>...</td>\n",
       "      <td>...</td>\n",
       "      <td>...</td>\n",
       "      <td>...</td>\n",
       "      <td>...</td>\n",
       "      <td>...</td>\n",
       "      <td>...</td>\n",
       "    </tr>\n",
       "    <tr>\n",
       "      <th>17907</th>\n",
       "      <td>1304047</td>\n",
       "      <td>2.0</td>\n",
       "      <td>17</td>\n",
       "      <td>5.0</td>\n",
       "      <td>SS Iyer</td>\n",
       "      <td>DJ Bravo</td>\n",
       "      <td>SP Jackson</td>\n",
       "      <td>1</td>\n",
       "      <td>0.0</td>\n",
       "      <td>1.0</td>\n",
       "      <td>0.0</td>\n",
       "      <td>0</td>\n",
       "      <td>0</td>\n",
       "      <td>Kolkata Knight Riders</td>\n",
       "      <td>24/04/202</td>\n",
       "    </tr>\n",
       "    <tr>\n",
       "      <th>17908</th>\n",
       "      <td>1304047</td>\n",
       "      <td>2.0</td>\n",
       "      <td>17</td>\n",
       "      <td>6.0</td>\n",
       "      <td>SP Jackson</td>\n",
       "      <td>DJ Bravo</td>\n",
       "      <td>SS Iyer</td>\n",
       "      <td>1</td>\n",
       "      <td>0.0</td>\n",
       "      <td>1.0</td>\n",
       "      <td>0.0</td>\n",
       "      <td>0</td>\n",
       "      <td>0</td>\n",
       "      <td>Kolkata Knight Riders</td>\n",
       "      <td>24/04/202</td>\n",
       "    </tr>\n",
       "    <tr>\n",
       "      <th>17909</th>\n",
       "      <td>1304047</td>\n",
       "      <td>2.0</td>\n",
       "      <td>18</td>\n",
       "      <td>1.0</td>\n",
       "      <td>SP Jackson</td>\n",
       "      <td>AF Milne</td>\n",
       "      <td>SS Iyer</td>\n",
       "      <td>1</td>\n",
       "      <td>0.0</td>\n",
       "      <td>1.0</td>\n",
       "      <td>0.0</td>\n",
       "      <td>0</td>\n",
       "      <td>0</td>\n",
       "      <td>Kolkata Knight Riders</td>\n",
       "      <td>24/04/202</td>\n",
       "    </tr>\n",
       "    <tr>\n",
       "      <th>17910</th>\n",
       "      <td>1304047</td>\n",
       "      <td>2.0</td>\n",
       "      <td>18</td>\n",
       "      <td>2.0</td>\n",
       "      <td>SS Iyer</td>\n",
       "      <td>AF Milne</td>\n",
       "      <td>SP Jackson</td>\n",
       "      <td>2</td>\n",
       "      <td>0.0</td>\n",
       "      <td>2.0</td>\n",
       "      <td>0.0</td>\n",
       "      <td>0</td>\n",
       "      <td>0</td>\n",
       "      <td>Kolkata Knight Riders</td>\n",
       "      <td>24/04/202</td>\n",
       "    </tr>\n",
       "    <tr>\n",
       "      <th>17911</th>\n",
       "      <td>1304047</td>\n",
       "      <td>2.0</td>\n",
       "      <td>18</td>\n",
       "      <td>3.0</td>\n",
       "      <td>SS Iyer</td>\n",
       "      <td>AF Milne</td>\n",
       "      <td>SP Jackson</td>\n",
       "      <td>4</td>\n",
       "      <td>0.0</td>\n",
       "      <td>4.0</td>\n",
       "      <td>0.0</td>\n",
       "      <td>0</td>\n",
       "      <td>0</td>\n",
       "      <td>Kolkata Knight Riders</td>\n",
       "      <td>24/04/202</td>\n",
       "    </tr>\n",
       "  </tbody>\n",
       "</table>\n",
       "<p>17912 rows × 15 columns</p>\n",
       "</div>"
      ],
      "text/plain": [
       "            ID  Innings  Overs  Ball_number       Batter          Bowler  \\\n",
       "0      1312200      1.0      0          1.0  YBK Jaiswal  Mohammed Shami   \n",
       "1      1312200      1.0      0          2.0  YBK Jaiswal  Mohammed Shami   \n",
       "2      1312200      1.0      0          3.0   JC Buttler  Mohammed Shami   \n",
       "3      1312200      1.0      0          4.0  YBK Jaiswal  Mohammed Shami   \n",
       "4      1312200      1.0      0          5.0  YBK Jaiswal  Mohammed Shami   \n",
       "...        ...      ...    ...          ...          ...             ...   \n",
       "17907  1304047      2.0     17          5.0      SS Iyer        DJ Bravo   \n",
       "17908  1304047      2.0     17          6.0   SP Jackson        DJ Bravo   \n",
       "17909  1304047      2.0     18          1.0   SP Jackson        AF Milne   \n",
       "17910  1304047      2.0     18          2.0      SS Iyer        AF Milne   \n",
       "17911  1304047      2.0     18          3.0      SS Iyer        AF Milne   \n",
       "\n",
       "       Non_Striker  Batsman_Run  Extras_Run  Total_Run  Non_Boundary  \\\n",
       "0       JC Buttler            0         0.0        0.0           0.0   \n",
       "1       JC Buttler            0         1.0        1.0           0.0   \n",
       "2      YBK Jaiswal            1         0.0        1.0           0.0   \n",
       "3       JC Buttler            0         0.0        0.0           0.0   \n",
       "4       JC Buttler            0         0.0        0.0           0.0   \n",
       "...            ...          ...         ...        ...           ...   \n",
       "17907   SP Jackson            1         0.0        1.0           0.0   \n",
       "17908      SS Iyer            1         0.0        1.0           0.0   \n",
       "17909      SS Iyer            1         0.0        1.0           0.0   \n",
       "17910   SP Jackson            2         0.0        2.0           0.0   \n",
       "17911   SP Jackson            4         0.0        4.0           0.0   \n",
       "\n",
       "       Is_Wicket_Delivery Player_Out           Batting_Team       Date  \n",
       "0                       0          0       Rajasthan Royals  3/26/2022  \n",
       "1                       0          0       Rajasthan Royals  3/26/2022  \n",
       "2                       0          0       Rajasthan Royals  3/26/2022  \n",
       "3                       0          0       Rajasthan Royals  3/26/2022  \n",
       "4                       0          0       Rajasthan Royals  3/26/2022  \n",
       "...                   ...        ...                    ...        ...  \n",
       "17907                   0          0  Kolkata Knight Riders  24/04/202  \n",
       "17908                   0          0  Kolkata Knight Riders  24/04/202  \n",
       "17909                   0          0  Kolkata Knight Riders  24/04/202  \n",
       "17910                   0          0  Kolkata Knight Riders  24/04/202  \n",
       "17911                   0          0  Kolkata Knight Riders  24/04/202  \n",
       "\n",
       "[17912 rows x 15 columns]"
      ]
     },
     "execution_count": 19,
     "metadata": {},
     "output_type": "execute_result"
    }
   ],
   "source": [
    "ipl_data"
   ]
  },
  {
   "cell_type": "markdown",
   "id": "d615c1d6",
   "metadata": {},
   "source": [
    "# Runs scored by teams in different matches"
   ]
  },
  {
   "cell_type": "code",
   "execution_count": 20,
   "id": "0dd798ab",
   "metadata": {},
   "outputs": [
    {
     "data": {
      "text/plain": [
       "ID       Batting_Team               \n",
       "1304047  Chennai Super Kings            131.0\n",
       "         Kolkata Knight Riders          133.0\n",
       "1304048  Delhi Capitals                 179.0\n",
       "         Mumbai Indians                 177.0\n",
       "1304049  Punjab Kings                   208.0\n",
       "                                        ...  \n",
       "1312199  Rajasthan Royals               161.0\n",
       "         Royal Challengers Bangalore    157.0\n",
       "1312200  0                                4.0\n",
       "         Gujarat Titans                 133.0\n",
       "         Rajasthan Royals               126.0\n",
       "Name: Total_Run, Length: 149, dtype: float64"
      ]
     },
     "execution_count": 20,
     "metadata": {},
     "output_type": "execute_result"
    }
   ],
   "source": [
    "ipl_data.groupby(['ID','Batting_Team'])['Total_Run'].sum()"
   ]
  },
  {
   "cell_type": "markdown",
   "id": "1756e3d2",
   "metadata": {},
   "source": [
    "# Code for Bar Chart"
   ]
  },
  {
   "cell_type": "code",
   "execution_count": 21,
   "id": "d369a727",
   "metadata": {},
   "outputs": [
    {
     "data": {
      "text/plain": [
       "Batting_Team\n",
       "Chennai Super Kings            2288.0\n",
       "Delhi Capitals                 2341.0\n",
       "Gujarat Titans                 2663.0\n",
       "Kolkata Knight Riders          2181.0\n",
       "Lucknow Super Giants           2548.0\n",
       "Mumbai Indians                 2217.0\n",
       "Punjab Kings                   2343.0\n",
       "Rajasthan Royals               2939.0\n",
       "Royal Challengers Bangalore    2632.0\n",
       "Sunrisers Hyderabad            2197.0\n",
       "Name: Total_Run, dtype: float64"
      ]
     },
     "execution_count": 21,
     "metadata": {},
     "output_type": "execute_result"
    }
   ],
   "source": [
    "#Team and their total runs in whole league\n",
    "round(ipl_data.groupby('Batting_Team')['Total_Run'].sum()[1:],0)"
   ]
  },
  {
   "cell_type": "code",
   "execution_count": 22,
   "id": "4dc6882f",
   "metadata": {},
   "outputs": [],
   "source": [
    "ipl_data.replace(['Rajasthan Royals', 'Gujarat Titans',\n",
    "       'Royal Challengers Bangalore', 'Lucknow Super Giants',\n",
    "       'Sunrisers Hyderabad', 'Punjab Kings', 'Delhi Capitals',\n",
    "       'Mumbai Indians', 'Chennai Super Kings', 'Kolkata Knight Riders']\n",
    "                ,['RR','GT','RCB','LSG','SH','PK','DC','MI','CSK','KKR'],inplace=True)"
   ]
  },
  {
   "cell_type": "code",
   "execution_count": 23,
   "id": "211f01e2",
   "metadata": {},
   "outputs": [
    {
     "data": {
      "image/png": "[encoded data removed]",
      "text/plain": [
       "<Figure size 432x288 with 1 Axes>"
      ]
     },
     "metadata": {
      "needs_background": "light"
     },
     "output_type": "display_data"
    }
   ],
   "source": [
    "\n",
    "data = dict(round(ipl_data.groupby('Batting_Team')['Total_Run'].sum()[1:],0))\n",
    "x = list(data.keys())\n",
    "y = list(data.values())\n",
    "plt.xlabel(\"Team Name\")\n",
    "plt.ylabel(\"Total runs scored\")\n",
    "plt.title(\"Team Name vs Total runs scored\")\n",
    "plt.bar(x,y)\n",
    "plt.show()"
   ]
  },
  {
   "cell_type": "markdown",
   "id": "f7f6a38d",
   "metadata": {},
   "source": [
    "Bar Graph shows the total runs scored by different teams in whole league.\n",
    "- Rajasthan Royals(RR) scored the maximum runs.\n",
    "- Kolkata Knight Riders(KKR) scored the minimum runs.\n",
    "- There is a difference of 758 runs in highest and lowest scoring team."
   ]
  },
  {
   "cell_type": "markdown",
   "id": "efd6de2b",
   "metadata": {},
   "source": [
    "# Code for creating Histogram"
   ]
  },
  {
   "cell_type": "code",
   "execution_count": 24,
   "id": "cac7e1e1",
   "metadata": {},
   "outputs": [
    {
     "data": {
      "image/png": "[encoded data removed]",
      "text/plain": [
       "<Figure size 432x288 with 1 Axes>"
      ]
     },
     "metadata": {
      "needs_background": "light"
     },
     "output_type": "display_data"
    }
   ],
   "source": [
    "data_hist = dict(ipl_data.groupby(['Bowler'])['Is_Wicket_Delivery'].sum())\n",
    "c = list(data_hist.values())\n",
    "range = (0, 30)\n",
    "bins = 30\n",
    "plt.hist(c, bins, range ,color = 'cornflowerblue', histtype = 'bar', rwidth = 0.8)\n",
    "plt.xlabel(\"Number of wickets\")\n",
    "plt.ylabel(\"Number of bowlers\")\n",
    "plt.xticks([x for x in np.arange(0,31,2)])\n",
    "plt.yticks([x for x in np.arange(0,21,2)])\n",
    "plt.title(\"Number of wickets vs Number of bowlers\")\n",
    "plt.show()"
   ]
  },
  {
   "cell_type": "markdown",
   "id": "f4bbf0fa",
   "metadata": {},
   "source": [
    "Histogram shows number of bowlers for number of wickets.\n",
    "- There are 20 bowlers who didn't take a single wicket in whole league.\n",
    "- There is 1 bowler who took 29 wickets in whole league."
   ]
  },
  {
   "cell_type": "markdown",
   "id": "357f022b",
   "metadata": {},
   "source": [
    "# Code for creating Pie Chart"
   ]
  },
  {
   "cell_type": "code",
   "execution_count": 25,
   "id": "cfd6cf24",
   "metadata": {},
   "outputs": [
    {
     "data": {
      "text/plain": [
       "Total_Run\n",
       "0.0    6368\n",
       "1.0    7263\n",
       "2.0    1072\n",
       "3.0      62\n",
       "4.0    2041\n",
       "5.0      45\n",
       "6.0    1056\n",
       "7.0       5\n",
       "Name: Total_Run, dtype: int64"
      ]
     },
     "execution_count": 25,
     "metadata": {},
     "output_type": "execute_result"
    }
   ],
   "source": [
    "round(ipl_data.groupby('Total_Run')['Total_Run'].count(),0)"
   ]
  },
  {
   "cell_type": "code",
   "execution_count": 26,
   "id": "6671a451",
   "metadata": {},
   "outputs": [
    {
     "data": {
      "image/png": "[encoded data removed]",
      "text/plain": [
       "<Figure size 432x288 with 1 Axes>"
      ]
     },
     "metadata": {},
     "output_type": "display_data"
    }
   ],
   "source": [
    "data_pie = dict(ipl_data.groupby('Total_Run')['Total_Run'].count())\n",
    "a = ['0 Run','1 Run','2 Run','3 Run','4 Run','5 Run','6 Run','7 Run']\n",
    "#a = list(data_pie.keys())\n",
    "b = list(data_pie.values())\n",
    "plt.title(\"Runs in a delivery\")\n",
    "plt.pie(b,labels = a, radius = 2.5, explode = (0, 0.1, 0, 0,0,0.3,0,0.3), startangle=0, autopct = '%2.2f%%')\n",
    "plt.legend(loc='best')\n",
    "plt.show()"
   ]
  },
  {
   "cell_type": "markdown",
   "id": "66cd36e8",
   "metadata": {},
   "source": [
    "Pie chart shows the chances of getting zero to seven runs in single ball delivery.\n",
    "- Chance of getting 1 run in 1 ball is highest that is 40.55%\n",
    "- Chance of getting 7 run in 1 ball is lowest that is 0.03%\n",
    "- Chance of getting 3 or 5 run in 1 ball lesser than hitting a six! "
   ]
  },
  {
   "cell_type": "markdown",
   "id": "8f3618da",
   "metadata": {},
   "source": [
    "# Code for creating Line Plot"
   ]
  },
  {
   "cell_type": "code",
   "execution_count": 27,
   "id": "7de86b53",
   "metadata": {
    "scrolled": true
   },
   "outputs": [
    {
     "data": {
      "text/plain": [
       "{'JC Buttler': 894.0,\n",
       " 'KL Rahul': 653.0,\n",
       " 'Q de Kock': 526.0,\n",
       " 'HH Pandya': 512.0,\n",
       " 'Shubman Gill': 505.0,\n",
       " 'DA Miller': 500.0,\n",
       " 'S Dhawan': 500.0,\n",
       " 'F du Plessis': 493.0,\n",
       " 'SV Samson': 478.0,\n",
       " 'DJ Hooda': 471.0}"
      ]
     },
     "execution_count": 27,
     "metadata": {},
     "output_type": "execute_result"
    }
   ],
   "source": [
    "# Code to find batsman, who scored the most runs\n",
    "data3 = dict(round(ipl_data.groupby('Batter')['Total_Run'].sum(),0))\n",
    "{k: v for k, v in sorted(data3.items(), key=lambda item: item[1],reverse = True)[:10]}"
   ]
  },
  {
   "cell_type": "code",
   "execution_count": 28,
   "id": "7aa38833",
   "metadata": {},
   "outputs": [
    {
     "name": "stdout",
     "output_type": "stream",
     "text": [
      "['1', '10', '11', '12', '13', '14', '15', '16', '17', '2', '3', '4', '5', '6', '7', '8', '9']\n",
      "[37.0, 23.0, 30.0, 9.0, 2.0, 2.0, 98.0, 106.0, 39.0, 103.0, 73.0, 15.0, 54.0, 108.0, 117.0, 8.0, 70.0]\n"
     ]
    },
    {
     "data": {
      "image/png": "[encoded data removed]",
      "text/plain": [
       "<Figure size 432x288 with 1 Axes>"
      ]
     },
     "metadata": {
      "needs_background": "light"
     },
     "output_type": "display_data"
    }
   ],
   "source": [
    "ipl_data.replace([1304051, 1304055, 1304059, 1304066, 1304070, 1304076, 1304080, 1304085, 1304090,\n",
    "                  1304093, 1304098, 1304104, 1304109, 1304114, 1312197, 1312199, 1312200]\n",
    "                ,['1','2','3','4','5','6','7','8','9','10','11','12','13','14','15','16','17'],inplace=True)\n",
    "data2 = ipl_data.groupby(['Batter','ID'])['Total_Run'].sum()\n",
    "a = dict(data2['JC Buttler'])\n",
    "x = (list(a.keys()))\n",
    "print(x)\n",
    "y = (list(a.values()))\n",
    "print(y)\n",
    "plt.xlabel(\"Match Number\")\n",
    "plt.ylabel(\"Runs\")\n",
    "plt.title(\"Performance of JC Buttler\")\n",
    "plt.plot(x,y, label='JC Buttler Runs')\n",
    "plt.legend(loc='best')\n",
    "arrow_properties = {\n",
    "'facecolor': 'yellow',\n",
    "'facecolor': 'yellow',\n",
    "'headlength': 5,\n",
    "'width': 4\n",
    "}\n",
    "\n",
    "plt.annotate('Highest(117)', xy=('7', 117),  xytext=('7.5', 100),arrowprops=arrow_properties)\n",
    "plt.annotate('Lowest(2)', xy=('14', 2),  xytext=('15', 3),arrowprops=arrow_properties)\n",
    "plt.show()\n"
   ]
  },
  {
   "cell_type": "markdown",
   "id": "86305f60",
   "metadata": {},
   "source": [
    "Line chart shows the performance of JC Buttler who scored the most runs in league.\n",
    "- Highest run scored is 117 in 7th match\n",
    "- Lowest run scored is 2 in 14th match\n",
    "- Performance of the batsman is highly inconsistent."
   ]
  },
  {
   "cell_type": "markdown",
   "id": "6a33a079",
   "metadata": {},
   "source": [
    "# Code for creating Boxplot"
   ]
  },
  {
   "cell_type": "code",
   "execution_count": 29,
   "id": "1487adf2",
   "metadata": {},
   "outputs": [
    {
     "name": "stdout",
     "output_type": "stream",
     "text": [
      "[9.0, 7.0, 15.0, 22.0, 11.0, 14.0, 6.0, 25.0, 14.0, 10.0, 11.0, 10.0, 5.0, 8.0, 10.0, 17.0, 12.0, 18.0, 22.0, 18.0]\n"
     ]
    },
    {
     "data": {
      "image/png": "[encoded data removed]",
      "text/plain": [
       "<Figure size 432x288 with 1 Axes>"
      ]
     },
     "metadata": {
      "needs_background": "light"
     },
     "output_type": "display_data"
    }
   ],
   "source": [
    "data_1 = ipl_data.groupby(['ID','Overs'])['Total_Run'].sum()\n",
    "di = dict(data_1[1304047])\n",
    "di1 = list(di.values())\n",
    "print(di1)\n",
    "flierprops = dict(marker='o', markerfacecolor='r', markersize=5)\n",
    "plt.boxplot(di1, flierprops = flierprops )\n",
    "plt.grid(True)\n",
    "plt.yticks(np.arange(0, 30,2))\n",
    "plt.plot()\n",
    "plt.xlabel(\"Over\")\n",
    "plt.ylabel(\"Runs\")\n",
    "plt.title(\"Runs scored in one over\")\n",
    "plt.show()"
   ]
  },
  {
   "cell_type": "markdown",
   "id": "249a996f",
   "metadata": {},
   "source": [
    "The boxplot shows runs scored in an over for a single match.\n",
    "- Minimum runs scored in an over is 5\n",
    "- Maximum runs scored in an over is 25\n",
    "- Median runs scored in an over is around 11\n"
   ]
  },
  {
   "cell_type": "markdown",
   "id": "650a6017",
   "metadata": {},
   "source": [
    "# Code for Scatter Plot"
   ]
  },
  {
   "cell_type": "code",
   "execution_count": 30,
   "id": "fbd380ed",
   "metadata": {},
   "outputs": [
    {
     "name": "stdout",
     "output_type": "stream",
     "text": [
      "{0: 35, 1: 35, 2: 38, 3: 29, 4: 45, 5: 38, 6: 29, 7: 38, 8: 39, 9: 36, 10: 34, 11: 34, 12: 45, 13: 43, 14: 64, 15: 57, 16: 47, 17: 72, 18: 61, 19: 93}\n",
      "[35, 35, 38, 29, 45, 38, 29, 38, 39, 36, 34, 34, 45, 43, 64, 57, 47, 72, 61, 93]\n",
      "[1, 2, 3, 4, 5, 6, 7, 8, 9, 10, 11, 12, 13, 14, 15, 16, 17, 18, 19, 20]\n"
     ]
    },
    {
     "data": {
      "image/png": "[encoded data removed]",
      "text/plain": [
       "<Figure size 432x288 with 1 Axes>"
      ]
     },
     "metadata": {
      "needs_background": "light"
     },
     "output_type": "display_data"
    }
   ],
   "source": [
    "data5 = dict(ipl_data.groupby(['Overs'])['Is_Wicket_Delivery'].sum())\n",
    "print(data5)\n",
    "e = list(data5.values())\n",
    "print(e)\n",
    "d = list(data5.keys())\n",
    "dn = [x+1 for x in d]\n",
    "print(dn)\n",
    "plt.grid(True)\n",
    "plt.scatter(dn, e, color= 'blue', marker= \"o\")\n",
    "plt.xticks([x for x in np.arange(0,21)])\n",
    "plt.xlabel(\"Over\")\n",
    "plt.ylabel(\"Wickets\")\n",
    "plt.title(\"Number of wicket vs Over Number\")\n",
    "plt.show()"
   ]
  },
  {
   "cell_type": "markdown",
   "id": "466cd398",
   "metadata": {},
   "source": [
    "Scatter Plot shows number of wickets in that over.\n",
    "- In 20th over maximum wickets are taken.\n",
    "- In 4th and 7th over least wickets are taken.\n",
    "- It can be concluded that number of wickets taken is directly proportional to over number."
   ]
  },
  {
   "cell_type": "markdown",
   "id": "0e8af0d8",
   "metadata": {},
   "source": [
    "# Code for creating Heat Map\n"
   ]
  },
  {
   "cell_type": "code",
   "execution_count": 31,
   "id": "26f8e320",
   "metadata": {},
   "outputs": [
    {
     "data": {
      "image/png": "[encoded data removed]",
      "text/plain": [
       "<Figure size 720x720 with 2 Axes>"
      ]
     },
     "metadata": {
      "needs_background": "light"
     },
     "output_type": "display_data"
    }
   ],
   "source": [
    "import seaborn as sns\n",
    "plt.figure(figsize = (10,10))\n",
    "corr_data = ipl_data[['ID','Innings','Batter','Bowler','Non_Striker',\"Batsman_Run\",'Ball_number','Is_Wicket_Delivery','Overs', \"Extras_Run\", \"Total_Run\", \"Non_Boundary\"]]\n",
    "plt.title('Ipl ball by ball')\n",
    "sns.heatmap(corr_data.corr(), annot=True)\n",
    "plt.show()"
   ]
  },
  {
   "cell_type": "markdown",
   "id": "2394287a",
   "metadata": {},
   "source": [
    "Heat plot shows the trend between different variables.\n",
    "- Batsman runs and total runs are positively correlated.\n",
    "- Total runs and wicket delivery are negatively correlated.\n",
    "- As most of the variables are near to zero, it can be said that cricket is highly unpredictable game.\n"
   ]
  },
  {
   "cell_type": "markdown",
   "id": "0be751a5",
   "metadata": {},
   "source": [
    "# Conclusion\n",
    "- From the dataset, it can be concluded that cricket is a highly unpredictable game.\n",
    "- It doesn’t matter if the team has scored the maximum runs in whole league, it can still lose the tournament. Rajasthan Royals scored the maximum runs, but Gujrat Titans won the league. \n",
    "- A good score doesn’t guarantee a win.\n"
   ]
  },
  {
   "cell_type": "markdown",
   "id": "2b5f6960",
   "metadata": {},
   "source": [
    "# Recommendations\n",
    "- If we have data for toss winner, we can write code to get how many times a toss winner is match winner.\n",
    "- Analysis could be done for weather conditions, light conditions and pitch conditions for different teams."
   ]
  },
  {
   "cell_type": "code",
   "execution_count": null,
   "id": "6f404338",
   "metadata": {},
   "outputs": [],
   "source": []
  }
 ],
 "metadata": {
  "kernelspec": {
   "display_name": "Python 3 (ipykernel)",
   "language": "python",
   "name": "python3"
  },
  "language_info": {
   "codemirror_mode": {
    "name": "ipython",
    "version": 3
   },
   "file_extension": ".py",
   "mimetype": "text/x-python",
   "name": "python",
   "nbconvert_exporter": "python",
   "pygments_lexer": "ipython3",
   "version": "3.9.12"
  }
 },
 "nbformat": 4,
 "nbformat_minor": 5
}
